{
  "nbformat": 4,
  "nbformat_minor": 0,
  "metadata": {
    "colab": {
      "name": "dictionary.ipynb",
      "provenance": []
    },
    "kernelspec": {
      "name": "python3",
      "display_name": "Python 3"
    },
    "language_info": {
      "name": "python"
    }
  },
  "cells": [
    {
      "cell_type": "code",
      "metadata": {
        "colab": {
          "base_uri": "https://localhost:8080/"
        },
        "id": "xwLBPLA62Wp-",
        "outputId": "b21d66b6-0834-48b2-de1b-6cfa579882c7"
      },
      "source": [
        "import json\n",
        "from difflib import get_close_matches\n",
        "data = json.load(open(\"data.json\"))\n",
        "def translate(word):\n",
        "  word = word.lower()\n",
        "  if word in data:\n",
        "    return data[word]\n",
        "  elif word.title() in data:\n",
        "    return data[word.title()]\n",
        "  elif word.upper() in data:\n",
        "    return data[word.upper()]\n",
        "  elif len(get_close_matches(word , data.keys()))>0:\n",
        "    print(\"Did you mean %s instead \" %get_close_matches(word , data.keys())[0])\n",
        "    decide = input(\"press y for yes or n for no\")\n",
        "    if decide == \"y\":\n",
        "      return data[get_close_matches(word, data.keys())[0]]\n",
        "    elif decide==\"n\":\n",
        "      return(\"pugger your paw step is wrong\")\n",
        "    else:\n",
        "      return(\"You have enterd wring input please enter just y or n\")\n",
        "    \n",
        "  else:\n",
        "    print(\"You have entered wrong word \")\n",
        "word = input(\"Enter the you want to search \")\n",
        "output=translate(word)\n",
        "if type(output)==list:\n",
        "  for item in output:\n",
        "    print(item)\n",
        "else:\n",
        "  print(output)"
      ],
      "execution_count": 16,
      "outputs": [
        {
          "output_type": "stream",
          "text": [
            "Enter the you want to search smogg\n",
            "Did you mean smog instead \n",
            "press y for yes or n for noy\n",
            "Air pollution consisting of smoke and fog.\n"
          ],
          "name": "stdout"
        }
      ]
    },
    {
      "cell_type": "code",
      "metadata": {
        "id": "giLkCJs73XUr"
      },
      "source": [
        ""
      ],
      "execution_count": null,
      "outputs": []
    }
  ]
}